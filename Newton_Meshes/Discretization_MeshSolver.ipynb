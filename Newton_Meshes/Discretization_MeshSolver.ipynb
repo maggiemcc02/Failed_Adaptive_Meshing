{
  "nbformat": 4,
  "nbformat_minor": 0,
  "metadata": {
    "colab": {
      "name": "Discretization_MeshSolver.ipynb",
      "provenance": [],
      "collapsed_sections": [],
      "authorship_tag": "ABX9TyMGgD5FKzZIJ1/AbqeB0I7g",
      "include_colab_link": true
    },
    "kernelspec": {
      "name": "python3",
      "display_name": "Python 3"
    },
    "language_info": {
      "name": "python"
    }
  },
  "cells": [
    {
      "cell_type": "markdown",
      "metadata": {
        "id": "view-in-github",
        "colab_type": "text"
      },
      "source": [
        "<a href=\"https://colab.research.google.com/github/maggiemcc02/Adaptive_Meshing/blob/main/Newton_Meshes/Discretization_MeshSolver.ipynb\" target=\"_parent\"><img src=\"https://colab.research.google.com/assets/colab-badge.svg\" alt=\"Open In Colab\"/></a>"
      ]
    },
    {
      "cell_type": "markdown",
      "source": [
        "# Introduction\n",
        "To create my adaptive meshing code, I will couple together a physical ODE solver and a mesh solver. The physical solver solves the problem of interest. It then gives the mesh solver the final approximations and the mesh it used to find these approximations. The mesh solver takes these two vectors and solves another ODE whose solution is the new and improved non-uniform mesh. The mesh solver gives the physical solver this new mesh and the whole process repeats.\n",
        "\n",
        "In this notebook, my focus is on the mesh solver. In particular, I will show the steps taken to discretize the ODE that is solved in the mesh solver. Once I have been able to discretize the ODE, I will be able to define my system that I will need to solve in order to solve the ODE. To solve this system I need the jacobian. Therefore, I will also derive the jacobian from my system in this notebook.\n",
        "\n",
        "### By: Maggie McCarthy, June 2022"
      ],
      "metadata": {
        "id": "JzmGIO4Y6jME"
      }
    },
    {
      "cell_type": "markdown",
      "source": [
        "## Discretizing the Mesh ODE\n",
        "\n",
        "In the mesh solver, we are solving an ODE of the form:\n",
        "$$ ( M(x), x_{\\xi} )_{\\xi} = 0$$\n",
        "where $x$ is our solution function (our non-uniform mesh) that we are approximating on the uniform grid $\\xi.$\n",
        "\n",
        "To understand this discretization, we shall break it down piece by piece.\n",
        "\n",
        "### The Indices\n",
        "In the equations to follow you will encounter a subscript $i,$ and superscript $(0),$ and another superscript $(k).$ Before diving into these equations, I will clarify what these indices refer to.\n",
        "\n",
        "The subscript $i$ refers to the $ith$ entry in a vector. Since we are working with a system of equations, the index $i$ refers to the $ith$ equation in our system which corresponds to the $ith$ row of the matrix and the $ith$ entry in a vector. \n",
        "\n",
        "The superscript $(k)$ is the Newton Method iteration counter. For each iteration of Newton's Method in our mesh solver, we are approximating and updating the values in a vector $x.$ Therefore, the vector $x$ has differant values for each iteration. To clarify which vector $x$ we are refering to, we use a superscript $(k)$ which counts the number of iterations of newtons method. \n",
        "\n",
        "The superscript $(0)$ refers to a vector inputted into our mesh solver. In our approximations of the mesh density function, we require the approximations of the solution to the physical problem (original problem we solve in the physical problem). We call this vector of approximations $U^{(0)}$ in our equations because it remains constant throughout the implementation of Newton's Method. \n",
        "\n",
        "For example, $x^{(k)}_i$ refers to the $ith$ entry in the vector $x$ used in the $kth$ Newton iteration.\n",
        "\n",
        "### The Mesh Density Function $M.$\n",
        "Our ODE has a function call to our mesh density function $M.$ Therefore, in each Newton Iteration we will need to call on this function to create our system and it's jacobian. As you will see, we actually call $M$ at the halfway points between our solution approximations, $x_i$ (half way between the non-unform grid points we are approximating). Therefore, I thought it best to define the equation for $M$ at $x_{i+\\frac{1}{2}}$ and at $x_{i-\\frac{1}{2}}$ so that we can use these equations as needed in our discretization. \n",
        "\n",
        "$$ M(x_{i+\\frac{1}{2}}) = \\sqrt{ 1 + \\left( \\frac{ U^{(0)}_{i+1} - U^{(0)}_{i}}{x^{(k)}_{i+1} - x^{(k)}_{i}} \\right)^2} $$\n",
        "and \n",
        "$$ M(x_{i-\\frac{1}{2}}) = \\sqrt{ 1 + \\left( \\frac{ U^{(0)}_{i} - U^{(0)}_{i-1}}{x^{(k)}_{i} - x^{(k)}_{i-1}} \\right)^2}.$$\n",
        "\n",
        "### The Discretization\n",
        "The method used to discretize this ODE can be found in Example 2.1 in Section 2.15 in Leveque's text. I will be breaking it down here step by step in relation to our problem.\n",
        "\n",
        "1. Approximate $ M(x)x_{\\xi} $ at points halfway between grid points. Remember that the grid points for $M$ come from the non-uniform grid $x.$ Therefore, we are approximating $M(x_{i+\\frac{1}{2}})$ and $M(x_{i-\\frac{1}{2}}).$ The grid points for $x$ come from the uniform grid $\\xi$ where the mesh width is $\\frac{1}{N}$ ($N$ is the number of grid points). Therefore, we are approximating $X_{i+\\frac{1}{2}} \\approx x(\\xi_{i + \\frac{1}{2}})$ and $X_{i-\\frac{1}{2}} \\approx x(\\xi_{i - \\frac{1}{2}}).$ The equations for these approximations are:\n",
        "\n",
        "\n",
        "\n",
        "$$M(x_{i+\\frac{1}{2}})(X_{i+\\frac{1}{2}}) = \\sqrt{ 1 + \\left( \\frac{ U^{(0)}_{i+1} - U^{(0)}_{i}}{x^{(k)}_{i+1} - x^{(k)}_{i}} \\right)^2}\\cdot \\left( \\frac{ x^{(k)}_{i+1} - x^{(k)}_i }{ \\frac{1}{N}} \\right)$$\n",
        "and \n",
        "$$M(x_{i-\\frac{1}{2}})(X_{i-\\frac{1}{2}}) = \\sqrt{ 1 + \\left( \\frac{ U^{(0)}_{i} - U^{(0)}_{i-1}}{x^{(k)}_{i} - x^{(k)}_{i-1}} \\right)^2}\\cdot \\left( \\frac{ x^{(k)}_{i} - x^{(k)}_{i-1} }{ \\frac{1}{N}} \\right)$$\n",
        "\n",
        "2. To approximate the whole ODE, we take the differance of these approximations to obtain a centered approximation:\n",
        "\n",
        "$$ ( M(x), x_{\\xi} )_{\\xi} = \\frac{1}{N} \\left[\\sqrt{ 1 + \\left( \\frac{ U^{(0)}_{i+1} - U^{(0)}_{i}}{x^{(k)}_{i+1} - x^{(k)}_{i}} \\right)^2}\\cdot \\left( \\frac{ x^{(k)}_{i+1} - x^{(k)}_i }{ \\frac{1}{N}} \\right) - \\sqrt{ 1 + \\left( \\frac{ U^{(0)}_{i} - U^{(0)}_{i-1}}{x^{(k)}_{i} - x^{(k)}_{i-1}} \\right)^2}\\cdot \\left( \\frac{ x^{(k)}_{i} - x^{(k)}_{i-1} }{ \\frac{1}{N}} \\right) \\right]$$\n",
        "\n",
        "3. We can cancel $\\frac{1}{N}$ to obtain\n",
        "\n",
        "$$ ( M(x), x_{\\xi} )_{\\xi} = \\left[\\sqrt{ 1 + \\left( \\frac{ U^{(0)}_{i+1} - U^{(0)}_{i}}{x^{(k)}_{i+1} - x^{(k)}_{i}} \\right)^2}\\cdot \\left( x^{(k)}_{i+1} - x^{(k)}_i  \\right) - \\sqrt{ 1 + \\left( \\frac{ U^{(0)}_{i} - U^{(0)}_{i-1}}{x^{(k)}_{i} - x^{(k)}_{i-1}} \\right)^2}\\cdot \\left(x^{(k)}_{i} - x^{(k)}_{i-1} \\right) \\right]$$\n",
        "\n",
        "4. Now we can expand multiply out this equation and collect like terms to get our discretization:\n",
        "\n",
        "$$ ( M(x), x_{\\xi} )_{\\xi} = (x^{(k)}_{i-1}) \\cdot \\left( \\sqrt{ 1 + \\left( \\frac{ U^{(0)}_{i} - U^{(0)}_{i-1}}{x^{(k)}_{i} - x^{(k)}_{i-1}} \\right)^2} \\right) - (x^{(k)}_{i}) \\cdot \\left( \\sqrt{ 1 + \\left( \\frac{ U^{(0)}_{i} - U^{(0)}_{i-1}}{x^{(k)}_{i} - x^{(k)}_{i-1}} \\right)^2} + \\sqrt{ 1 + \\left( \\frac{ U^{(0)}_{i+1} - U^{(0)}_{i}}{x^{(k)}_{i+1} - x^{(k)}_{i}} \\right)^2} \\right) + (x^{(k)}_{i+1}) \\cdot \\left(\\sqrt{ 1 + \\left( \\frac{ U^{(0)}_{i+1} - U^{(0)}_{i}}{x^{(k)}_{i+1} - x^{(k)}_{i}} \\right)^2} \\right). $$\n",
        "\n",
        "Using this discretization, we can define our system of $i$ equations and $i$ unknowns. \n",
        "\n",
        "\n",
        "\n",
        "\n",
        "\n",
        "\n",
        "\n",
        "\n",
        "\n",
        "\n",
        "\n",
        "\n",
        "\n"
      ],
      "metadata": {
        "id": "IFalS36m73ux"
      }
    },
    {
      "cell_type": "code",
      "source": [
        ""
      ],
      "metadata": {
        "id": "3DyX7hACJePz"
      },
      "execution_count": null,
      "outputs": []
    },
    {
      "cell_type": "code",
      "source": [
        ""
      ],
      "metadata": {
        "id": "takJ-qAx8fJ9"
      },
      "execution_count": null,
      "outputs": []
    }
  ]
}