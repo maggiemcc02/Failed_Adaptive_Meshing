{
  "nbformat": 4,
  "nbformat_minor": 0,
  "metadata": {
    "colab": {
      "name": "General_deBoor_AdaptiveMesh.ipynb",
      "provenance": [],
      "collapsed_sections": [],
      "toc_visible": true,
      "authorship_tag": "ABX9TyMM2mhTtES3tNFZNNs4V9Xr",
      "include_colab_link": true
    },
    "kernelspec": {
      "name": "python3",
      "display_name": "Python 3"
    },
    "language_info": {
      "name": "python"
    }
  },
  "cells": [
    {
      "cell_type": "markdown",
      "metadata": {
        "id": "view-in-github",
        "colab_type": "text"
      },
      "source": [
        "<a href=\"https://colab.research.google.com/github/maggiemcc02/Adaptive_Meshing/blob/main/deBoor_Meshes/General_deBoor_AdaptiveMesh.ipynb\" target=\"_parent\"><img src=\"https://colab.research.google.com/assets/colab-badge.svg\" alt=\"Open In Colab\"/></a>"
      ]
    },
    {
      "cell_type": "markdown",
      "source": [
        "# Introduction\n",
        "\n",
        "In this notebook, I construct a function which couples my nonlinear, non-uniform physical solver (uses Newton's Method) with the de Boor mesh solver (uses de Boor's algorithm to equidistribute the Mesh Density Function). \n",
        "\n",
        "I then test this code by using it to compute the three solutions to the reaction diffusion problem given as $2.6$ in Kopteva's *Numerical Analysis of Singularly Perturbed Nonlinear Reaction-Diffusion Problems with Multiple Solutions.*\n",
        "\n",
        "\n",
        "### BY: Maggie McCarthy, June 2022\n",
        "\n"
      ],
      "metadata": {
        "id": "XJWrDGs4zQ-h"
      }
    },
    {
      "cell_type": "code",
      "execution_count": 1,
      "metadata": {
        "id": "hjFtXlBuzLoU"
      },
      "outputs": [],
      "source": [
        "# import needed tools\n",
        "import math\n",
        "import numpy as np\n",
        "from scipy.linalg import solve_banded\n",
        "from numpy.linalg import norm\n",
        "import matplotlib.pyplot as plt\n",
        "from scipy.interpolate import interp1d"
      ]
    },
    {
      "cell_type": "markdown",
      "source": [
        "# The Test Problem from Kopteva's Paper"
      ],
      "metadata": {
        "id": "2ubi-jHo1aEt"
      }
    },
    {
      "cell_type": "code",
      "source": [
        "def k(u, t):\n",
        "  return u*(u-1)*(u-t-(3/2))\n",
        "\n",
        "def k_prime(u, t):\n",
        "  return 3*u**2 - 2*u*t + (-10*u + 3) / 2 + t\n",
        "\n",
        "u_0 = 3/2\n",
        "u_n = 1/2"
      ],
      "metadata": {
        "id": "KIS3pZjl1dfu"
      },
      "execution_count": 2,
      "outputs": []
    },
    {
      "cell_type": "markdown",
      "source": [
        "# Non-Uniform Nonlinear Physical Solver\n",
        "\n",
        "The notebook where I discretize the problem, create and test this solver : https://colab.research.google.com/drive/1YBNZJnpjLUEzcm4TjqQDVCMW56-AyqFW?usp=sharing"
      ],
      "metadata": {
        "id": "xLrgrhhbzd57"
      }
    },
    {
      "cell_type": "code",
      "source": [
        "# Nonlinear, non-uniform, physical solver\n",
        "\n",
        "def newton_method_bvp(G, J, grid, k, k_prime, x0, u_0, u_n, E, tol, max_iter):\n",
        "  \"\"\"\n",
        "  Approximates the solution to a specific nonlinear system\n",
        "  Parameters\n",
        "  ---------\n",
        "  G : Vector function\n",
        "      Is the system of nonlinear equations\n",
        "  \n",
        "  J : Jacobian Matrix of G\n",
        "\n",
        "  grid : vector of grid points\n",
        "\n",
        "  k : Known function in ODE\n",
        "\n",
        "  k_prime : derivative of k\n",
        "\n",
        "  x0 :  Vector of initial guesses for each unknown. \n",
        "        If f has 4 unknowns, x0 has shape 4 X 1\n",
        "  \n",
        "  u_0, u_n : boundary conditions\n",
        "\n",
        "  E : Epsilon (see text)\n",
        "\n",
        "  tol : number \n",
        "        Tolerance\n",
        "\n",
        "  max_iter: integer\n",
        "            Max number of iterations\n",
        "\n",
        "  Returns\n",
        "  ------\n",
        "  An approximation for the solutions of G(x) = 0 where G is a nonlinear system.\n",
        "  \"\"\"\n",
        "\n",
        "  # Remove the first and last entries of the grid\n",
        "  # this is because we already have the solution\n",
        "  # at the boundary values (u_0 and u_1)\n",
        "  \n",
        "  #global mesh\n",
        "  mesh = []\n",
        "  for i in range(len(grid)):\n",
        "    if i != 0: # if not first entry\n",
        "      if i != (len(grid)-1): # if not last entry\n",
        "        mesh.append([ grid[i][0] ]) # then add it to new vector\n",
        "  mesh = np.array(mesh)\n",
        "  \n",
        "\n",
        "  # Calculate the mesh width (h) for each grid point\n",
        "  # h_i = x_i - x_i-1\n",
        "\n",
        "  h_list = []\n",
        "  for i in range(1, len(grid)):\n",
        "      h = grid[i][0] - grid[i-1][0]\n",
        "      h_list.append( [h] )\n",
        "  mesh_space = np.array(h_list)\n",
        "\n",
        "  xn = x0 # sets initial guesses as xn for the first iteration of the loop\n",
        "  \n",
        "  for n in range(1, max_iter):\n",
        "\n",
        "    # compute b = -G(X)\n",
        "    \n",
        "    b = (-1) * G(xn, mesh, mesh_space, k, u_0, u_n, E)\n",
        "\n",
        "    # compute A = J(X)\n",
        "\n",
        "    A = J(xn, mesh, mesh_space, k, k_prime, u_0, u_n, E)\n",
        "    \n",
        "\n",
        "    # solve the system with scipy's solve_banded\n",
        "    # we can use this solver because A is tridiagonal\n",
        "\n",
        "    delta = solve_banded((1,1), A, b)\n",
        "    \n",
        "    x_new = xn + delta\n",
        "    \n",
        "\n",
        "    if norm(x_new - xn) < tol:\n",
        "      \n",
        "      # x_new is our solution\n",
        "      # add in the boundary conditions\n",
        "      \n",
        "      solutions_list = [[u_0]]\n",
        "      for i in x_new:\n",
        "        solutions_list.append(i)\n",
        "      solutions_list.append([u_n])\n",
        "      solutions = np.array(solutions_list)\n",
        "\n",
        "      return solutions\n",
        "\n",
        "\n",
        "    xn = x_new\n",
        "\n",
        "  print('Max iterations reached and/or sequence is diverging')\n",
        "  return None"
      ],
      "metadata": {
        "id": "B1anPQ1EzVcN"
      },
      "execution_count": 3,
      "outputs": []
    },
    {
      "cell_type": "code",
      "source": [
        "# Our System\n",
        "\n",
        "def G(x, mesh, mesh_spacing, k, u_0, u_n, E):\n",
        "\n",
        "  \"\"\"\n",
        "  x : array of guesses\n",
        "  mesh : vector of grid points\n",
        "  mesh_spacing : vector of mesh widths\n",
        "  k : our function in the ODE\n",
        "  u_0, u_n : boundary conditions\n",
        "  E : epsilon\n",
        "\n",
        "  \"\"\"\n",
        "  g_list = []\n",
        "\n",
        "  for i in range(len(x)):\n",
        "\n",
        "    # set the grid point\n",
        "    point = mesh[i][0]\n",
        "    # set mesh width\n",
        "    h1 = mesh_spacing[i][0]\n",
        "    h2 = mesh_spacing[i+1][0]\n",
        "\n",
        "    # create entries\n",
        "    if (i == 0): # u_i-1 is u_0\n",
        "\n",
        "      u_1 = x[i][0]\n",
        "      u_2 = x[i+1][0]\n",
        "      u_minus = u_0\n",
        "\n",
        "      g_list.append( [ ( ( h1*u_2 + h2*u_minus - (h1 + h2)*u_1 ) \\\n",
        "                        / ( (1/2) * (h1*(h2**2) + h2*(h1**2)) ) \\\n",
        "                        - ( (k(u_1, point)) / (E**2) ) ) ] )\n",
        "   \n",
        "      \n",
        "    elif i == (len(x) - 1): # U_i+1 is u_n\n",
        "\n",
        "      u_1 = x[i][0]\n",
        "      u_2 = u_n\n",
        "      u_minus = x[i-1][0]  \n",
        "\n",
        "      g_list.append( [ ( ( h1*u_2 + h2*u_minus - (h1 + h2)*u_1 ) \\\n",
        "                        / ( (1/2) * (h1*(h2**2) + h2*(h1**2)) ) \\\n",
        "                        - ( (k(u_1, point)) / (E**2) ) ) ] )\n",
        "\n",
        "    else:\n",
        "\n",
        "      u_1 = x[i][0]\n",
        "      u_2 = x[i+1][0]\n",
        "      u_minus = x[i-1][0]  \n",
        "\n",
        "      g_list.append( [ ( ( h1*u_2 + h2*u_minus - (h1 + h2)*u_1 ) \\\n",
        "                        / ( (1/2) * (h1*(h2**2) + h2*(h1**2)) ) \\\n",
        "                        - ( (k(u_1, point)) / (E**2) ) ) ] )\n",
        "\n",
        "      \n",
        "    \n",
        "    \n",
        "\n",
        "  # create array \n",
        "  G = np.array(g_list)\n",
        "  return G"
      ],
      "metadata": {
        "id": "sUx0lG_Ll1SK"
      },
      "execution_count": 4,
      "outputs": []
    },
    {
      "cell_type": "code",
      "source": [
        "# Our Jacobian\n",
        "\n",
        "def J(x, mesh, mesh_spacing, k, k_prime, u_0, u_n, E):\n",
        "\n",
        "  \"\"\"\n",
        "  x : array of guesses\n",
        "  mesh : vector of grid points\n",
        "  mesh_spacing : vector of mesh widths\n",
        "  k : function in ODE\n",
        "  k_prime : derivaive of function in ODE\n",
        "  E : epsilon\n",
        "\n",
        "  \"\"\"\n",
        "\n",
        "\n",
        "  main  = []\n",
        "  upper = []\n",
        "  lower = []\n",
        " \n",
        "\n",
        "  for i in range(len(x)):\n",
        "\n",
        "    # set grid point\n",
        "    point = mesh[i][0]\n",
        "    # set mesh width\n",
        "    h1 = mesh_spacing[i][0]\n",
        "    h2 = mesh_spacing[i+1][0]\n",
        "\n",
        "\n",
        "\n",
        "    # create diagonals \n",
        "\n",
        "    if i == 0: # first row\n",
        "\n",
        "      main.append( ( (-1*(h1+h2)) / ( (1/2)*(h1*(h2**2) + h2*(h1**2)) ) ) - ( (1 / (E**2)) * ( k_prime(x[i][0], point)) ) )\n",
        "      upper.append(0)\n",
        "      upper.append( h1 / ( (1/2)* (h1*(h2**2) + h2*(h1**2)) ) )\n",
        "\n",
        "    elif i == (len(x)-1): # last row\n",
        "\n",
        "      main.append( ( (-1*(h1+h2)) / ( (1/2)*(h1*(h2**2) + h2*(h1**2)) ) ) - ( (1 / (E**2)) * ( k_prime(x[i][0], point)) ) )\n",
        "      lower.append( h2 / ( (1/2)* (h1*(h2**2) + h2*(h1**2)) ) )\n",
        "      lower.append(0)\n",
        "\n",
        "    else: \n",
        "\n",
        "      upper.append( h1 / ( (1/2)* (h1*(h2**2) + h2*(h1**2)) ) )\n",
        "      main.append( ( (-1*(h1+h2)) / ( (1/2)*(h1*(h2**2) + h2*(h1**2)) ) ) - ( (1 / (E**2)) * ( k_prime(x[i][0], point)) ) )\n",
        "      lower.append( h2 / ( (1/2)* (h1*(h2**2) + h2*(h1**2)) ) )\n",
        "\n",
        "    \n",
        "\n",
        "  # create banded array\n",
        "  jacob = np.array([upper, main, lower])\n",
        "\n",
        "  return jacob "
      ],
      "metadata": {
        "id": "Plrhfa7Ll4SL"
      },
      "execution_count": 5,
      "outputs": []
    },
    {
      "cell_type": "code",
      "source": [
        ""
      ],
      "metadata": {
        "id": "beVxypuMz1_n"
      },
      "execution_count": 5,
      "outputs": []
    },
    {
      "cell_type": "markdown",
      "source": [
        "# de Boor's Algorithm (Mesh Solver) \n",
        "\n",
        "The notebook where I created and tested this method : \n",
        "\n",
        " https://colab.research.google.com/drive/1bGt-mo34X-DQ7LtHbdjcpU7eBSABiJqz?usp=sharing"
      ],
      "metadata": {
        "id": "XhF2l8QNqw0y"
      }
    },
    {
      "cell_type": "markdown",
      "source": [
        "## Mesh Density Function"
      ],
      "metadata": {
        "id": "SiulKpu-rqI-"
      }
    },
    {
      "cell_type": "code",
      "source": [
        "# mesh density function for interior nodes without prints\n",
        "\n",
        "def interior_M(Uc, Ua, xc, xb, xa):\n",
        "\n",
        "  \"\"\"\n",
        "  Uc : U_i+1 \n",
        "  Ua : U_i-1\n",
        "  xc, xb, xa : corresponding grid points\n",
        "  \"\"\"\n",
        "\n",
        "  U0 = Ua # U_i-1\n",
        "  U2 = Uc # U_i+1\n",
        "\n",
        "  h1 = xb - xa\n",
        "  h2 = xc - xb\n",
        "\n",
        "  ux = (U2 - U0) / (h2 + h1)\n",
        "\n",
        "  approx = np.sqrt(1 + (ux)**2)\n",
        "\n",
        "  return approx"
      ],
      "metadata": {
        "id": "wGmiwDyQrzet"
      },
      "execution_count": 6,
      "outputs": []
    },
    {
      "cell_type": "code",
      "source": [
        "# mesh density function for endpoints without prints\n",
        "\n",
        "def endpoint_M(Ub, Ua, xb, xa):\n",
        "  \"\"\"\n",
        "  Ub : U_i+1 or Ui\n",
        "  Ua : Ui or U_i-1\n",
        "  xb, xa : corresponding grid points\n",
        "  \"\"\"\n",
        "  ux = (Ub - Ua) / (xb - xa)\n",
        "\n",
        "\n",
        "  approx = np.sqrt( 1 + (ux)**2)\n",
        "\n",
        "  return approx"
      ],
      "metadata": {
        "id": "X5iA3HUmr8dC"
      },
      "execution_count": 7,
      "outputs": []
    },
    {
      "cell_type": "code",
      "source": [
        "# code to generate M values on a given grid\n",
        "# same as before without prints\n",
        "\n",
        "def M_calc(U, grid):\n",
        "\n",
        "\n",
        "  rho = [] # empty list to save M values\n",
        "\n",
        "  rho.append(endpoint_M(U[1][0], U[0][0], grid[1][0], grid[0][0])) # add M value at first grid point using forward approx\n",
        "\n",
        "  for i in range(len(grid)-2): # add M values for interior nodes\n",
        "\n",
        "\n",
        "    # set values of U and y to pass to mesh density function\n",
        "\n",
        "    U0 = U[i][0]\n",
        "    U2 = U[i+2][0]\n",
        "    x0 = grid[i][0]\n",
        "    x1 = grid[i+1][0]\n",
        "    x2 = grid[i+2][0]\n",
        "\n",
        "    val = interior_M(U2, U0, x2, x1, x0) # compute mesh density\n",
        "    \n",
        "    rho.append(val)\n",
        "\n",
        "\n",
        "  rho.append(endpoint_M(U[-1][0], U[-2][0], grid[-1][0], grid[-2][0])) # add M value for last grid point\n",
        "\n",
        "  rho = np.array([rho]).T\n",
        "\n",
        "  return rho"
      ],
      "metadata": {
        "id": "qWiF5I91r_Ar"
      },
      "execution_count": 8,
      "outputs": []
    },
    {
      "cell_type": "markdown",
      "source": [
        "## P(x) Function \n",
        "$$P(y_j) = \\sum^{j}_{i=1} (y_i - y_{i-1}) \\frac{\\rho(y_i) + \\rho(y_{i-1})}{2} \\text{ for } j = 1, \\dots, N-1.$$"
      ],
      "metadata": {
        "id": "bh_5n4-IsMmn"
      }
    },
    {
      "cell_type": "code",
      "source": [
        "# define P without prints\n",
        "\n",
        "def P(j, old_mesh, rho):\n",
        "\n",
        "  \"\"\"\n",
        "  j : index of grid point we want to calculate P at j = 1, ..., N-1\n",
        "  \n",
        "  old_mesh : current mesh / old mesh\n",
        "\n",
        "  rho : vector of mesh density function values at each grid point in old_mesh\n",
        "\n",
        "  \"\"\"\n",
        "\n",
        "  p_j = 0\n",
        "\n",
        "  for i in range(1, j+1):\n",
        "    \n",
        "\n",
        "    y1 = old_mesh[i-1][0]\n",
        "    y2 = old_mesh[i][0]\n",
        "    M1 = rho[i-1][0]\n",
        "    M2 = rho[i][0]\n",
        "\n",
        "    val = (y2 - y1) * ( (M2 + M1) / 2)\n",
        "\n",
        "\n",
        "    p_j += val\n",
        "\n",
        "  return p_j"
      ],
      "metadata": {
        "id": "3Dl6KfBBsBaN"
      },
      "execution_count": 9,
      "outputs": []
    },
    {
      "cell_type": "markdown",
      "source": [
        "## The Mesh Solver (de Boor)\n"
      ],
      "metadata": {
        "id": "eNJ2E9BxslHh"
      }
    },
    {
      "cell_type": "code",
      "source": [
        ""
      ],
      "metadata": {
        "id": "rnoUxj2O0dnT"
      },
      "execution_count": 9,
      "outputs": []
    },
    {
      "cell_type": "code",
      "source": [
        "def equidistribute(oldmesh, P, rho, uni_grid, x0, xn):\n",
        "  \"\"\"\n",
        "  oldmesh : current mesh we are updating with this code\n",
        "\n",
        "  P : function defined in Russell and Huang which represents the integral of the linearized mesh density function\n",
        "\n",
        "  rho : value of the mesh density function at each point on the oldmesh\n",
        "\n",
        "  uni_grid : a uniform grid with the same number of points and on the same interval the oldmesh\n",
        "\n",
        "  x0, xn : first and last grid points\n",
        "  \"\"\"\n",
        "\n",
        "  # compute P(y) for each y in oldmesh\n",
        "\n",
        "  #print('Computing P(y) values:')\n",
        "\n",
        "  P_list = [0] # P(a) = 0\n",
        "\n",
        "  for q in range(1, len(oldmesh)): # q = second grid point, ..., last grid point\n",
        "\n",
        "    P_list.append(P(q, oldmesh, rho)) \n",
        "\n",
        "\n",
        "  # main code to compute the new grid points\n",
        "\n",
        "  newmesh = [x0] # add in boundary condition x(0) = 0\n",
        "\n",
        "\n",
        "  for j in range(1, len(oldmesh)-1): # j = second grid point, ..., second last grid point \n",
        "\n",
        "    # compute xi * P(b)\n",
        "\n",
        "    xi = uni_grid[j][0] # THIS COULD BE REPLACED WITH j/N\n",
        "\n",
        "    P_b = P_list[-1] # P(b) is last P value in P_list\n",
        "\n",
        "    xi_pb = xi * P_b # compute xi * P(b)\n",
        "\n",
        "\n",
        "    # find what interval on the old mesh xi*P(b) is in\n",
        "\n",
        "    for i in range(1, len(oldmesh)):\n",
        "\n",
        "\n",
        "      P_y2 = P_list[i] #P(y_i)\n",
        "      P_y1 = P_list[i-1] #P(y_i-1)\n",
        "\n",
        "\n",
        "      if ((xi_pb > P_y1) and (xi_pb <= P_y2)): # if P(y_i-1) < xi*P(b) <= P(y_i)\n",
        "        \n",
        "        # set k = i\n",
        "\n",
        "        k = i\n",
        "\n",
        "        break\n",
        "\n",
        "    \n",
        "    # compute the new mesh point\n",
        "\n",
        "\n",
        "    a = oldmesh[k-1][0] # a = y_k-1\n",
        "\n",
        "    b = 2 * ( xi_pb - P_list[k-1] ) # b = 2 * (xi*P(b) - P(y_k-1))\n",
        "\n",
        "    c = rho[k-1][0] + rho[k][0] # c = M(y_k-1) + M(y_k)\n",
        "\n",
        "    new_x = a + b / c # new_x = y_k-1 + ( 2 * (xi*P(b) - P(y_k-1))) / (M(y_k-1) + M(y_k))\n",
        "\n",
        "    newmesh.append(new_x) # save new grid point to mesh\n",
        "\n",
        "  newmesh.append(xn) # save endpoint to end of mesh\n",
        "  newmesh = np.array([newmesh]).T # make mesh a column vector \n",
        "\n",
        "\n",
        "  return newmesh"
      ],
      "metadata": {
        "id": "UCVLRwTXsa2O"
      },
      "execution_count": 10,
      "outputs": []
    },
    {
      "cell_type": "markdown",
      "source": [
        "# General Code for Coupling\n",
        "\n",
        "This code differs from my previous code by using the previous $U$ vector (solution approximation from the physical solver) as the initial guess needed by the physical solver to compute a new $U.$\n",
        "\n",
        "Previously, I used a constant initial guess for every call of the physical solver in the coupling."
      ],
      "metadata": {
        "id": "66i7ryV-qOW8"
      }
    },
    {
      "cell_type": "code",
      "source": [
        "def adaptive_mesh(mesh, uni_grid, guess, n):\n",
        "\n",
        "\n",
        "  # create table to print results\n",
        "  print('Mesh #    l2 Norm of Old Mesh - New Mesh          l2 Norm of Old U - New U')\n",
        "  print('_'*80)\n",
        "\n",
        "  # approximate on a uniform mesh using this guess\n",
        "\n",
        "  U = newton_method_bvp(G, J, mesh, k, k_prime, guess, u_0, u_n, 0.01, 1e-12, 100)\n",
        "\n",
        "  # set new initial guess as U\n",
        "\n",
        "  guess = []\n",
        "  for i in range(len(U)):\n",
        "    if i != 0:\n",
        "      if i != (len(U)-1):\n",
        "        val = [  U[i][0]  ]\n",
        "        guess.append(val)\n",
        "  guess = np.array( guess )\n",
        "\n",
        "\n",
        "  # loop to couple codes\n",
        "\n",
        "  for i in range(n): # couple code 50 times\n",
        "\n",
        "\n",
        "    print(i + 1, end = '         ')\n",
        "\n",
        "    # compute mesh density function\n",
        "\n",
        "    M_vals = M_calc(U, mesh)\n",
        "\n",
        "    # equidistribute (mesh solver with de Boor)\n",
        "\n",
        "    new_mesh = equidistribute(mesh, P, M_vals, uni_grid, 0, 1)\n",
        "\n",
        "    # print norm(old mesh - new mesh)\n",
        "\n",
        "    print(norm(abs(new_mesh-mesh)), end = '                       ')\n",
        "\n",
        "    # update the mesh\n",
        "\n",
        "    mesh = new_mesh\n",
        "\n",
        "    # set current U as guess\n",
        "  \n",
        "    guess = []\n",
        "    for i in range(len(U)):\n",
        "      if i != 0:\n",
        "        if i != (len(U)-1):\n",
        "          val = [  U[i][0]  ]\n",
        "          guess.append(val)\n",
        "    guess = np.array( guess )\n",
        "\n",
        "    # compute new U\n",
        "\n",
        "    new_U = newton_method_bvp(G, J, mesh, k, k_prime, guess, u_0, u_n, 0.01, 1e-12, 100)\n",
        "\n",
        "\n",
        "    print(norm(abs(new_U - U)))\n",
        "\n",
        "    # set new_U as U\n",
        "\n",
        "    U = new_U\n",
        "  \n",
        "  # create final grid as global variable\n",
        "\n",
        "  global final_mesh\n",
        "  final_mesh = []\n",
        "  for i in range(len(mesh)):\n",
        "    final_mesh.append(mesh[i][0])\n",
        "\n",
        "\n",
        "  return U"
      ],
      "metadata": {
        "id": "dg6uRmozxRSb"
      },
      "execution_count": 11,
      "outputs": []
    },
    {
      "cell_type": "markdown",
      "source": [
        "# Test Problems\n",
        "\n",
        "I will now recover the three solutions to Kopteva's problem using the general coupling code and differant initial guesses.\n",
        "\n",
        "I will output a table of $norm$ calculations. I will also plot the final approximation of the physical solution (after the coupling)."
      ],
      "metadata": {
        "id": "Ax8FDit40fe5"
      }
    },
    {
      "cell_type": "markdown",
      "source": [
        "## First Solution - Initial Guess of $u(x) = 0$"
      ],
      "metadata": {
        "id": "M9qKOiXZ056I"
      }
    },
    {
      "cell_type": "code",
      "source": [
        "# set grids\n",
        "\n",
        "grid = np.linspace(0, 1, 100)\n",
        "\n",
        "mesh = np.array([grid]).T # initial mesh\n",
        "uni_grid = np.array([grid]).T # uniform xi\n",
        "\n",
        "# set initial guess u(x) = 0 \n",
        "\n",
        "guess = []\n",
        "for i in range(len(mesh)):\n",
        "  if i != 0:\n",
        "    if i != (len(mesh)-1):\n",
        "      val = [  0  ]\n",
        "      guess.append(val)\n",
        "guess = np.array( guess )\n",
        "\n",
        "# call function\n",
        "\n",
        "final_U = adaptive_mesh(mesh, uni_grid, guess, 50)\n",
        "\n",
        "print()\n",
        "print()\n",
        "\n",
        "# plot the result\n",
        "\n",
        "plt.plot(final_mesh, final_U, 'b')\n",
        "plt.xlabel('grid points')\n",
        "plt.ylabel('Solution Function Approximation')\n",
        "plt.title(\" Solution 1 \")\n",
        "plt.show()\n",
        "\n"
      ],
      "metadata": {
        "colab": {
          "base_uri": "https://localhost:8080/",
          "height": 1000
        },
        "id": "Ns6SURmMyPv8",
        "outputId": "1f9c30b6-8523-4b54-9f3b-0066e8e4d8b4"
      },
      "execution_count": 12,
      "outputs": [
        {
          "output_type": "stream",
          "name": "stdout",
          "text": [
            "Mesh #    l2 Norm of Old Mesh - New Mesh          l2 Norm of Old U - New U\n",
            "________________________________________________________________________________\n",
            "1         2.4061790757235233                       5.777522205294579\n",
            "2         0.018636414569939915                       0.3784392897193424\n",
            "3         0.006602383809064049                       0.013665650289249499\n",
            "4         0.0008095279632485522                       0.0016931457455500861\n",
            "5         0.00030569990995766476                       0.0005563880949406823\n",
            "6         8.663571844747028e-05                       0.00025388346773492604\n",
            "7         4.603822279029634e-05                       9.944746273988711e-05\n",
            "8         1.9532085988976724e-05                       3.780944597839449e-05\n",
            "9         9.062796483371787e-06                       1.5002415282052088e-05\n",
            "10         3.7543256986922547e-06                       6.086827485949725e-06\n",
            "11         1.1800977078388847e-06                       2.105675784111819e-06\n",
            "12         2.81059274823205e-07                       6.645988920688522e-07\n",
            "13         6.692503030985123e-08                       1.1260144816643524e-07\n",
            "14         2.8451780402557227e-08                       2.073565101612346e-08\n",
            "15         5.480321361866753e-09                       9.806587542136526e-09\n",
            "16         2.1971840452359282e-09                       3.9688482934717875e-09\n",
            "17         8.613656854665916e-10                       1.8071529567609006e-09\n",
            "18         4.0741442488618326e-10                       8.321150388445739e-10\n",
            "19         2.166034204889203e-10                       3.6792226720589446e-10\n",
            "20         1.203292976441453e-10                       1.532958578006246e-10\n",
            "21         6.397333054532494e-11                       7.61926613788474e-11\n",
            "22         2.5240540202645227e-11                       3.143494022702143e-11\n",
            "23         8.34256249216054e-12                       1.1310402966459459e-11\n",
            "24         2.1544558177144772e-12                       3.7801138396826464e-12\n",
            "25         4.266560147841116e-13                       7.579993207633334e-13\n",
            "26         2.0879732606011122e-13                       3.054708704081144e-13\n",
            "27         5.2834624602734755e-14                       2.668512614335734e-13\n",
            "28         1.6509747504984634e-14                       2.7831723910683236e-13\n",
            "29         9.886705337269252e-15                       1.7735573560711927e-13\n",
            "30         2.697358587446859e-15                       2.968908625630481e-14\n",
            "31         2.7773687656115824e-15                       1.6080329734848269e-13\n",
            "32         3.244660750383336e-15                       1.6983326845645866e-13\n",
            "33         2.038668198223737e-15                       1.5093744642028682e-13\n",
            "34         2.7117894838010446e-15                       1.6622920238005266e-13\n",
            "35         2.1182578684018548e-15                       4.325289782774084e-14\n",
            "36         2.6626632763296357e-15                       1.4424151850188887e-13\n",
            "37         4.13005539859456e-15                       4.5846588311564695e-14\n",
            "38         5.481733582217587e-15                       9.649359108275896e-14\n",
            "39         5.640352588615625e-15                       9.242456246061557e-14\n",
            "40         8.950064504809172e-15                       3.0914837156477887e-13\n",
            "41         8.062452681592321e-15                       3.1885622551766184e-13\n",
            "42         2.6488733676097824e-15                       2.6041771050045732e-14\n",
            "43         5.118738204049333e-15                       9.561239096380208e-14\n",
            "44         5.244319271462899e-15                       7.285554652066888e-14\n",
            "45         4.163156039006949e-15                       2.0206573122061929e-13\n",
            "46         6.38300150835362e-15                       1.034971587807888e-13\n",
            "47         7.208209440613755e-15                       5.605909738393341e-14\n",
            "48         2.2017012123480426e-15                       7.675462334685141e-14\n",
            "49         2.6209706778575677e-15                       1.7114125196341103e-13\n",
            "50         2.470909348549639e-15                       1.532009312662299e-13\n",
            "\n",
            "\n"
          ]
        },
        {
          "output_type": "display_data",
          "data": {
            "text/plain": [
              "<Figure size 432x288 with 1 Axes>"
            ],
            "image/png": "[encoded data removed]"
          },
          "metadata": {
            "needs_background": "light"
          }
        }
      ]
    },
    {
      "cell_type": "markdown",
      "source": [
        "## Second Solution - Initial Guess of $u(x) = x + \\frac{3}{2}.$"
      ],
      "metadata": {
        "id": "dnnv1oGu2NVz"
      }
    },
    {
      "cell_type": "code",
      "source": [
        "# set grids\n",
        "\n",
        "grid = np.linspace(0, 1, 100)\n",
        "\n",
        "mesh = np.array([grid]).T # initial mesh\n",
        "uni_grid = np.array([grid]).T # uniform xi\n",
        "\n",
        "# set initial guess u(x) = x + 3/2\n",
        "\n",
        "guess = []\n",
        "for i in range(len(mesh)):\n",
        "  if i != 0:\n",
        "    if i != (len(mesh)-1):\n",
        "      val = [  mesh[i][0] + 3/2 ]\n",
        "      guess.append(val)\n",
        "guess = np.array( guess )\n",
        "\n",
        "# call function\n",
        "\n",
        "final_U = adaptive_mesh(mesh, uni_grid, guess, 50)\n",
        "\n",
        "print()\n",
        "print()\n",
        "\n",
        "# plot the result\n",
        "\n",
        "plt.plot(final_mesh, final_U, 'g')\n",
        "plt.xlabel('grid points')\n",
        "plt.ylabel('Solution Function Approximation')\n",
        "plt.title(\" Solution 2 \")\n",
        "plt.show()"
      ],
      "metadata": {
        "colab": {
          "base_uri": "https://localhost:8080/",
          "height": 1000
        },
        "id": "fL1lTBM32HIu",
        "outputId": "22331d6d-0d9b-4062-ad7b-87091cddb0f2"
      },
      "execution_count": 13,
      "outputs": [
        {
          "output_type": "stream",
          "name": "stdout",
          "text": [
            "Mesh #    l2 Norm of Old Mesh - New Mesh          l2 Norm of Old U - New U\n",
            "________________________________________________________________________________\n",
            "1         3.225552007326674                       7.589370055413647\n",
            "2         0.015569809086139039                       0.7997195247665051\n",
            "3         0.007923423561704439                       0.029941433339104637\n",
            "4         0.001575149180540728                       0.007587593521685425\n",
            "5         0.0005420329238188096                       0.001673746300524968\n",
            "6         0.0003258899316175173                       0.00168300516707816\n",
            "7         0.00020886873804562038                       0.0013232365921310135\n",
            "8         9.131506589419742e-05                       0.0004007257539360483\n",
            "9         6.694975852507036e-05                       0.0002850370907380499\n",
            "10         3.4712749457443665e-05                       0.00014674073222876462\n",
            "11         1.774442552659658e-05                       7.281207957079205e-05\n",
            "12         9.472266549226486e-06                       3.742667296593322e-05\n",
            "13         5.347509300740957e-06                       2.0368126719518775e-05\n",
            "14         3.171879507593011e-06                       1.172231562430272e-05\n",
            "15         1.952077256762023e-06                       7.056610840997954e-06\n",
            "16         1.2317865210885934e-06                       4.386748350843779e-06\n",
            "17         7.898279903531164e-07                       2.785940418982399e-06\n",
            "18         5.114974209361254e-07                       1.7934689386078616e-06\n",
            "19         3.332550309158762e-07                       1.1642653627381877e-06\n",
            "20         2.1791425160216394e-07                       7.59650898782129e-07\n",
            "21         1.428021220103177e-07                       4.971630448995747e-07\n",
            "22         9.370057039473516e-08                       3.259657827433269e-07\n",
            "23         6.152912799518377e-08                       2.1394982361880172e-07\n",
            "24         4.0421736861649816e-08                       1.40517369892933e-07\n",
            "25         2.656224701186871e-08                       9.232307945464833e-08\n",
            "26         1.7457528991198496e-08                       6.067203892054926e-08\n",
            "27         1.1474692251050844e-08                       3.987709675006303e-08\n",
            "28         7.542633555983997e-09                       2.6211420912622775e-08\n",
            "29         4.95814068867251e-09                       1.7229491993301193e-08\n",
            "30         3.2592882735482137e-09                       1.1326187620524059e-08\n",
            "31         2.142552410290428e-09                       7.445265241578194e-09\n",
            "32         1.4084571277082293e-09                       4.894764979621158e-09\n",
            "33         9.258857946415922e-10                       3.21698625184921e-09\n",
            "34         6.086546397932397e-10                       2.1151792393700884e-09\n",
            "35         4.00114955360132e-10                       1.3901335192756795e-09\n",
            "36         2.6302698420160696e-10                       9.141423006175624e-10\n",
            "37         1.7290946404217355e-10                       6.011315775575702e-10\n",
            "38         1.1366680206835767e-10                       3.9492565657080325e-10\n",
            "39         7.472390597207545e-11                       2.5928693531592647e-10\n",
            "40         4.911639701199353e-11                       1.709089484151641e-10\n",
            "41         3.229047033991537e-11                       1.1213272153245951e-10\n",
            "42         2.1228963430182993e-11                       7.387637970206008e-11\n",
            "43         1.3954044405974037e-11                       4.842036901328203e-11\n",
            "44         9.173523455385806e-12                       3.193923087919212e-11\n",
            "45         6.028975008194155e-12                       2.0851583703244093e-11\n",
            "46         3.9636225754418864e-12                       1.374051571829266e-11\n",
            "47         2.6063795187686156e-12                       9.223473174525034e-12\n",
            "48         1.7137816367708313e-12                       6.016936009362012e-12\n",
            "49         1.1271773691616116e-12                       3.895430277533285e-12\n",
            "50         7.420773639246289e-13                       2.377407658038495e-12\n",
            "\n",
            "\n"
          ]
        },
        {
          "output_type": "display_data",
          "data": {
            "text/plain": [
              "<Figure size 432x288 with 1 Axes>"
            ],
            "image/png": "[encoded data removed]"
          },
          "metadata": {
            "needs_background": "light"
          }
        }
      ]
    },
    {
      "cell_type": "markdown",
      "source": [
        "## Third Solution - Initial Guess of $u(x) = x$"
      ],
      "metadata": {
        "id": "yb2_YP422mGE"
      }
    },
    {
      "cell_type": "code",
      "source": [
        "# set grids\n",
        "\n",
        "grid = np.linspace(0, 1, 100)\n",
        "\n",
        "mesh = np.array([grid]).T # initial mesh\n",
        "uni_grid = np.array([grid]).T # uniform xi\n",
        "\n",
        "# set initial guess u(x) = x\n",
        "\n",
        "guess = []\n",
        "for i in range(len(mesh)):\n",
        "  if i != 0:\n",
        "    if i != (len(mesh)-1):\n",
        "      val = [  mesh[i][0]  ]\n",
        "      guess.append(val)\n",
        "guess = np.array( guess )\n",
        "\n",
        "# call function\n",
        "\n",
        "final_U = adaptive_mesh(mesh, uni_grid, guess, 50)\n",
        "\n",
        "print()\n",
        "print()\n",
        "\n",
        "# plot the result\n",
        "\n",
        "plt.plot(final_mesh, final_U, 'r')\n",
        "plt.xlabel('grid points')\n",
        "plt.ylabel('Solution Function Approximation')\n",
        "plt.title(\" Solution 3 \")\n",
        "plt.show()"
      ],
      "metadata": {
        "colab": {
          "base_uri": "https://localhost:8080/",
          "height": 1000
        },
        "id": "CPd13DeE2idX",
        "outputId": "5a886ce7-53f6-42e7-f79b-6d3c09f27549"
      },
      "execution_count": 14,
      "outputs": [
        {
          "output_type": "stream",
          "name": "stdout",
          "text": [
            "Mesh #    l2 Norm of Old Mesh - New Mesh          l2 Norm of Old U - New U\n",
            "________________________________________________________________________________\n",
            "1         1.227910844998425                       6.8102733588814575\n",
            "2         0.029255269378840536                       0.9302364974646528\n",
            "3         0.01769377394185003                       0.059442111626335385\n",
            "4         0.007395375717153334                       0.04632978927856383\n",
            "5         0.005802928506436691                       0.08476570119216204\n",
            "6         0.004016123499144592                       0.06641255287930718\n",
            "7         0.00266633813619899                       0.0295127298727336\n",
            "8         0.002123866508487669                       0.027834547026786435\n",
            "9         0.0015928356237312914                       0.020732331428177788\n",
            "10         0.001173362566608103                       0.014358071851028394\n",
            "11         0.0008969724869222991                       0.011337614942291335\n",
            "12         0.0006767160038955063                       0.008336601757582126\n",
            "13         0.0005151370413558552                       0.006208645057529905\n",
            "14         0.00039499096716824654                       0.004818691270583805\n",
            "15         0.0003018813253570362                       0.0036561029026400817\n",
            "16         0.00023131709234657717                       0.002785261663368714\n",
            "17         0.00017761646122110446                       0.0021469251184514163\n",
            "18         0.00013627923447232453                       0.0016464107056629864\n",
            "19         0.00010458055937966747                       0.0012625040527888978\n",
            "20         8.022963213185639e-05                       0.0009709406265240846\n",
            "21         6.151711258076122e-05                       0.0007447616962487217\n",
            "22         4.714513811063411e-05                       0.0005691268403042801\n",
            "23         3.61844409788993e-05                       0.00043730511416541603\n",
            "24         2.7766656591817068e-05                       0.0003357128577485186\n",
            "25         2.129331839867938e-05                       0.00025755658819330747\n",
            "26         1.6329798260895308e-05                       0.00019769875179555165\n",
            "27         1.252249765613116e-05                       0.0001515319553585244\n",
            "28         9.596841362283889e-06                       0.00011597599581603152\n",
            "29         7.364587027755285e-06                       8.911979898336932e-05\n",
            "30         5.649976838451947e-06                       6.82999712347719e-05\n",
            "31         4.330965001869047e-06                       5.2426471666985446e-05\n",
            "32         3.3212098869981624e-06                       4.0229934527711344e-05\n",
            "33         2.54638980360272e-06                       3.076326828069152e-05\n",
            "34         1.9534832888479214e-06                       2.3635981516254516e-05\n",
            "35         1.4983807727015195e-06                       1.8143961987245568e-05\n",
            "36         1.1487062625342006e-06                       1.3901145168223592e-05\n",
            "37         8.806989529847956e-07                       1.0666962974272911e-05\n",
            "38         6.749595630273066e-07                       8.161498043146789e-06\n",
            "39         5.179848333066012e-07                       6.264707712636668e-06\n",
            "40         3.9721867144452877e-07                       4.805627565264903e-06\n",
            "41         3.0452192399013076e-07                       3.6885804510378358e-06\n",
            "42         2.3351848436423954e-07                       2.8264866039376076e-06\n",
            "43         1.7902284244923775e-07                       2.1640837367279406e-06\n",
            "44         1.3734299110867209e-07                       1.662614294399709e-06\n",
            "45         1.0534501749463348e-07                       1.2749023466207512e-06\n",
            "46         8.07517799951714e-08                       9.77802249215101e-07\n",
            "47         6.190241985493884e-08                       7.499975489942671e-07\n",
            "48         4.7446465219060064e-08                       5.734023421638681e-07\n",
            "49         3.640606512932857e-08                       4.4034628202733715e-07\n",
            "50         2.7917541887546022e-08                       3.3788015124609814e-07\n",
            "\n",
            "\n"
          ]
        },
        {
          "output_type": "display_data",
          "data": {
            "text/plain": [
              "<Figure size 432x288 with 1 Axes>"
            ],
            "image/png": "[encoded data removed]"
          },
          "metadata": {
            "needs_background": "light"
          }
        }
      ]
    },
    {
      "cell_type": "markdown",
      "source": [
        "# Coupling With DownSampling \n",
        "\n",
        "I will now try to alter my code to reduce the number of points needed in the mesh to approximate the solution.\n",
        "\n",
        "The plan is to compute the initial $U$ approximation (before coupling) as before. I will then take every second grid point (1st, 3rd, 5th, etc) so that the mesh and the corresponding $U$ vector are half the original size. \n",
        "\n",
        "Using this 'downsampled' mesh, I will continue with the coupling! This coupling will be cheaper than before because we are approximating on half the grid size.\n",
        "\n"
      ],
      "metadata": {
        "id": "5eAp8Qvv9lbc"
      }
    },
    {
      "cell_type": "markdown",
      "source": [
        "## Pratice Downsampling"
      ],
      "metadata": {
        "id": "KBNcnfntKak_"
      }
    },
    {
      "cell_type": "code",
      "source": [
        "# pratice downsampling vectors \n",
        "\n",
        "# create fake x and U vectors\n",
        "\n",
        "x = []\n",
        "u = []\n",
        "for i in range(1, 101):\n",
        "  x.append(i)\n",
        "  u.append(i)\n",
        "x = np.array([x]).T\n",
        "u = np.array([u]).T\n",
        "\n",
        "# down sample\n",
        "\n",
        "new_x = []\n",
        "new_u = []\n",
        "for i in range(100):\n",
        "  if ( (i % 2) == 0 ):\n",
        "    new_x.append(x[i][0])\n",
        "    new_u.append(u[i][0])\n",
        "print(len(new_x))\n",
        "print(len(new_u))\n",
        "print()\n",
        "print(new_x)\n",
        "print(new_u)"
      ],
      "metadata": {
        "colab": {
          "base_uri": "https://localhost:8080/"
        },
        "id": "y0Wt1k-D2yVj",
        "outputId": "fd551b9a-fa00-443e-ed01-9995aa7760fe"
      },
      "execution_count": 15,
      "outputs": [
        {
          "output_type": "stream",
          "name": "stdout",
          "text": [
            "50\n",
            "50\n",
            "\n",
            "[1, 3, 5, 7, 9, 11, 13, 15, 17, 19, 21, 23, 25, 27, 29, 31, 33, 35, 37, 39, 41, 43, 45, 47, 49, 51, 53, 55, 57, 59, 61, 63, 65, 67, 69, 71, 73, 75, 77, 79, 81, 83, 85, 87, 89, 91, 93, 95, 97, 99]\n",
            "[1, 3, 5, 7, 9, 11, 13, 15, 17, 19, 21, 23, 25, 27, 29, 31, 33, 35, 37, 39, 41, 43, 45, 47, 49, 51, 53, 55, 57, 59, 61, 63, 65, 67, 69, 71, 73, 75, 77, 79, 81, 83, 85, 87, 89, 91, 93, 95, 97, 99]\n"
          ]
        }
      ]
    },
    {
      "cell_type": "markdown",
      "source": [
        "## Couple Code with Downsampling"
      ],
      "metadata": {
        "id": "boos-Z3ZKeE8"
      }
    },
    {
      "cell_type": "code",
      "source": [
        "# Introduce downsampling into coupling code\n",
        "\n",
        "def downsampling_adaptive_mesh(mesh, uni_grid, guess, n, N ):\n",
        "\n",
        "\n",
        "  # approximate on a uniform mesh using this guess\n",
        "\n",
        "  U = newton_method_bvp(G, J, mesh, k, k_prime, guess, u_0, u_n, 0.01, 1e-12, 100)\n",
        "\n",
        "  # perform downsampling\n",
        "\n",
        "  new_x = []\n",
        "  new_xi = []\n",
        "  new_u = []\n",
        "  for i in range(N):\n",
        "    if ( (i % 2) == 0 ): # for every evenly indexed term in vector \n",
        "      new_x.append(mesh[i][0])\n",
        "      new_xi.append(uni_grid[i][0])\n",
        "      new_u.append(U[i][0])\n",
        "  \n",
        "  print('length of new vectors')\n",
        "  print()\n",
        "  print(len(new_x))\n",
        "  print(len(new_xi))\n",
        "  print(len(new_u))\n",
        "\n",
        "  print()\n",
        "\n",
        "  print(\"if downsampling worked, these values should match!\")\n",
        "  print()\n",
        "  print( mesh[2][0], new_x[1])\n",
        "  print(U[8][0], new_u[4])\n",
        "  print(uni_grid[10][0], new_xi[5])\n",
        "  print()\n",
        "\n",
        "\n",
        "  # set mesh, uni_grid, and U as downsampled arrays\n",
        "\n",
        "  mesh = np.array([new_x]).T\n",
        "  uni_grid = np.array([new_xi]).T\n",
        "  U = np.array([new_u]).T\n",
        "\n",
        "  # set new initial guess as U\n",
        "\n",
        "  guess = []\n",
        "  for i in range(len(U)):\n",
        "    if i != 0:\n",
        "      if i != (len(U)-1):\n",
        "        val = [  U[i][0]  ]\n",
        "        guess.append(val)\n",
        "  guess = np.array( guess )\n",
        "\n",
        "  # create table to print results\n",
        "  print('Mesh #    l2 Norm of Old Mesh - New Mesh          l2 Norm of Old U - New U')\n",
        "  print('_'*80)\n",
        "\n",
        "\n",
        "  # loop to couple codes\n",
        "\n",
        "  for i in range(n): # couple code 50 times\n",
        "\n",
        "\n",
        "    print(i + 1, end = '         ')\n",
        "\n",
        "    # compute mesh density function\n",
        "\n",
        "    M_vals = M_calc(U, mesh)\n",
        "\n",
        "    # equidistribute (mesh solver with de Boor)\n",
        "\n",
        "    new_mesh = equidistribute(mesh, P, M_vals, uni_grid, 0, 1)\n",
        "\n",
        "    # print norm(old mesh - new mesh)\n",
        "\n",
        "    print(norm(abs(new_mesh-mesh)), end = '                       ')\n",
        "\n",
        "    # update the mesh\n",
        "\n",
        "    mesh = new_mesh\n",
        "\n",
        "    # set current U as guess\n",
        "  \n",
        "    guess = []\n",
        "    for i in range(len(U)):\n",
        "      if i != 0:\n",
        "        if i != (len(U)-1):\n",
        "          val = [  U[i][0]  ]\n",
        "          guess.append(val)\n",
        "    guess = np.array( guess )\n",
        "\n",
        "    # compute new U\n",
        "\n",
        "    new_U = newton_method_bvp(G, J, mesh, k, k_prime, guess, u_0, u_n, 0.01, 1e-12, 100)\n",
        "\n",
        "\n",
        "    print(norm(abs(new_U - U)))\n",
        "\n",
        "    # set new_U as U\n",
        "\n",
        "    U = new_U\n",
        "  \n",
        "  # create final grid as global variable\n",
        "\n",
        "  global final_mesh\n",
        "  final_mesh = []\n",
        "  for i in range(len(mesh)):\n",
        "    final_mesh.append(mesh[i][0])\n",
        "\n",
        "\n",
        "  return U"
      ],
      "metadata": {
        "id": "bZt0OVYKCaPu"
      },
      "execution_count": 16,
      "outputs": []
    },
    {
      "cell_type": "markdown",
      "source": [
        "## Test Problem - Try To Capture Third Solution"
      ],
      "metadata": {
        "id": "jc6DgSQKJ2o7"
      }
    },
    {
      "cell_type": "code",
      "source": [
        "# set grids\n",
        "\n",
        "grid = np.linspace(0, 1, 100)\n",
        "\n",
        "mesh = np.array([grid]).T # initial mesh\n",
        "uni_grid = np.array([grid]).T # uniform xi\n",
        "\n",
        "# set initial guess u(x) = x\n",
        "\n",
        "guess = []\n",
        "for i in range(len(mesh)):\n",
        "  if i != 0:\n",
        "    if i != (len(mesh)-1):\n",
        "      val = [  mesh[i][0]  ]\n",
        "      guess.append(val)\n",
        "guess = np.array( guess )\n",
        "\n",
        "# call function\n",
        "\n",
        "final_U = downsampling_adaptive_mesh(mesh, uni_grid, guess, 50, 100)\n",
        "\n",
        "print()\n",
        "print()\n",
        "\n",
        "# plot the result\n",
        "\n",
        "plt.plot(final_mesh, final_U, 'r')\n",
        "plt.xlabel('grid points')\n",
        "plt.ylabel('Solution Function Approximation')\n",
        "plt.title(\" Solution 3 \")\n",
        "plt.show()"
      ],
      "metadata": {
        "id": "VmaI417pETMX",
        "colab": {
          "base_uri": "https://localhost:8080/",
          "height": 1000
        },
        "outputId": "3d1f545d-a490-4f61-ad46-dcc0afb8d900"
      },
      "execution_count": 17,
      "outputs": [
        {
          "output_type": "stream",
          "name": "stdout",
          "text": [
            "length of new vectors\n",
            "\n",
            "50\n",
            "50\n",
            "50\n",
            "\n",
            "if downsampling worked, these values should match!\n",
            "\n",
            "0.020202020202020204 0.020202020202020204\n",
            "0.00036895371963353016 0.00036895371963353016\n",
            "0.10101010101010102 0.10101010101010102\n",
            "\n",
            "Mesh #    l2 Norm of Old Mesh - New Mesh          l2 Norm of Old U - New U\n",
            "________________________________________________________________________________\n",
            "1         0.9461952041966085                       5.436417879288524\n",
            "2         1.4803402174533558                       7.812561429071628\n",
            "3         0.8422166820811472                       1.0963969856527014\n",
            "4         0.39441736301727515                       0.9599462726310405\n",
            "5         0.20749979187027232                       5.455324761055225\n",
            "6         1.1701501369759875                       6.399723699431319\n",
            "7         2.753762511008229                       2.8309684213982083\n",
            "8         0.03537180458102608                       0.1622029585023343\n",
            "9         0.005223489886083304                       0.02700189460790206\n",
            "10         0.0030204657676443027                       0.011632562341270011\n",
            "11         0.002157385637486906                       0.004702947739544402\n",
            "12         0.0011187060819635095                       0.002188011798857628\n",
            "13         0.00047659752078897324                       0.000894876898399826\n",
            "14         0.00016867084602984565                       0.00028068172999223736\n",
            "15         4.902266432277102e-05                       0.00014791048722899907\n",
            "16         4.1954094543106124e-05                       0.0001122832449806938\n",
            "17         1.1085196862456913e-05                       4.5348102877931766e-05\n",
            "18         7.404354525507386e-06                       1.9984308739917506e-05\n",
            "19         3.5055206066100464e-06                       7.693558684781085e-06\n",
            "20         1.2196251280322269e-06                       2.7316251611798627e-06\n",
            "21         4.1409346900561065e-07                       1.1744890807584938e-06\n",
            "22         1.5787239423365954e-07                       5.901669456570541e-07\n",
            "23         1.6140970858307034e-07                       3.0970766976405246e-07\n",
            "24         6.813697120562491e-08                       1.5925716188155095e-07\n",
            "25         2.4999692760425294e-08                       8.999651951047473e-08\n",
            "26         1.3128228212714529e-08                       4.6567883351026404e-08\n",
            "27         7.337840959743322e-09                       2.3792640377959744e-08\n",
            "28         4.154267932515062e-09                       1.2234153566036859e-08\n",
            "29         2.308943080189219e-09                       6.314057773595691e-09\n",
            "30         1.2581011118206707e-09                       3.25804100112052e-09\n",
            "31         6.7710772739019e-10                       1.67805102403317e-09\n",
            "32         3.5661397086808684e-10                       8.636719163888202e-10\n",
            "33         1.8752848126595156e-10                       4.424044906302987e-10\n",
            "34         9.971963814569152e-11                       2.2547709843280163e-10\n",
            "35         5.262276436544766e-11                       1.1458009043481873e-10\n",
            "36         2.8197608818855084e-11                       5.7957479854043695e-11\n",
            "37         1.5092174695136238e-11                       2.9239203357184886e-11\n",
            "38         8.156365835298776e-12                       1.4700674031977196e-11\n",
            "39         4.4412464622756845e-12                       7.359770748203428e-12\n",
            "40         2.4335971817702746e-12                       3.697098222984948e-12\n",
            "41         1.3450533182861988e-12                       1.827191927525366e-12\n",
            "42         7.48100726801865e-13                       9.119370806863707e-13\n",
            "43         4.2230825794340557e-13                       4.4750376662388957e-13\n",
            "44         2.4599053409717904e-13                       2.259330731528249e-13\n",
            "45         1.372651400959811e-13                       1.1962404119321834e-13\n",
            "46         7.649190851129422e-14                       8.254388070405296e-14\n",
            "47         4.342918871080001e-14                       7.485435816799399e-14\n",
            "48         2.554540698779328e-14                       5.002013049432498e-14\n",
            "49         1.5701516864153716e-14                       3.217460202418294e-14\n",
            "50         8.012088655645242e-15                       5.965546035506875e-14\n",
            "\n",
            "\n"
          ]
        },
        {
          "output_type": "display_data",
          "data": {
            "text/plain": [
              "<Figure size 432x288 with 1 Axes>"
            ],
            "image/png": "[encoded data removed]"
          },
          "metadata": {
            "needs_background": "light"
          }
        }
      ]
    },
    {
      "cell_type": "markdown",
      "source": [
        "# Write DownSampling as a Function so that we can DownSample Numerous Times \n"
      ],
      "metadata": {
        "id": "EFrOhVnHB2Rt"
      }
    },
    {
      "cell_type": "markdown",
      "source": [
        "## DownSample Function"
      ],
      "metadata": {
        "id": "R034XZ84KK2v"
      }
    },
    {
      "cell_type": "code",
      "source": [
        " def downsampling(mesh, uni_grid, U, N):\n",
        "\n",
        "   \"\"\"\n",
        "   mesh : mesh we are halfing\n",
        "\n",
        "   uni_grid : uniform grid we are halfing\n",
        "\n",
        "   U : approximation vector we are halfing\n",
        "\n",
        "   N : number of points originally\n",
        "\n",
        "   \"\"\"\n",
        " \n",
        "   # perform downsampling\n",
        "\n",
        "   global new_x\n",
        "   global new_xi\n",
        "   global new_u\n",
        "   new_x = []\n",
        "   new_xi = []\n",
        "   new_u = []\n",
        "\n",
        "   for i in range(N):\n",
        "     if ( (i % 2) == 0 ): # for every evenly indexed term in vector \n",
        "       new_x.append(mesh[i][0])\n",
        "       new_xi.append(uni_grid[i][0])\n",
        "       new_u.append(U[i][0])\n",
        "\n",
        "   new_x = np.array([new_x]).T\n",
        "   new_u = np.array([new_u]).T\n",
        "   new_xi = np.array([new_xi]).T\n",
        "  \n",
        "   print('length of new vectors')\n",
        "   print()\n",
        "   print(len(new_x))\n",
        "   print(len(new_xi))\n",
        "   print(len(new_u))\n",
        "\n",
        "\n",
        "\n"
      ],
      "metadata": {
        "id": "4s1xOn5eCFTG"
      },
      "execution_count": 18,
      "outputs": []
    },
    {
      "cell_type": "code",
      "source": [
        "x = np.linspace(1, 10, 10)\n",
        "\n",
        "mesh = np.array([x]).T\n",
        "uni_grid = np.array([x]).T\n",
        "U = np.array([x]).T\n",
        "\n",
        "\n",
        "downsampling(mesh, uni_grid, U, 10 )\n",
        "\n",
        "mesh = new_x\n",
        "uni_grid = new_xi\n",
        "U = new_u\n",
        "\n",
        "print()\n",
        "\n",
        "downsampling(mesh, uni_grid, U, len(mesh))\n",
        "\n",
        "mesh = new_x\n",
        "uni_grid = new_xi\n",
        "U = new_u\n",
        "\n",
        "\n"
      ],
      "metadata": {
        "colab": {
          "base_uri": "https://localhost:8080/"
        },
        "id": "6vD2C9btDgfS",
        "outputId": "2d242b78-7505-4b3b-f292-fd42f98f5765"
      },
      "execution_count": 19,
      "outputs": [
        {
          "output_type": "stream",
          "name": "stdout",
          "text": [
            "length of new vectors\n",
            "\n",
            "5\n",
            "5\n",
            "5\n",
            "\n",
            "length of new vectors\n",
            "\n",
            "3\n",
            "3\n",
            "3\n"
          ]
        }
      ]
    },
    {
      "cell_type": "markdown",
      "source": [
        "## Coupling Code that can DownSample Numerous Times"
      ],
      "metadata": {
        "id": "DCu0kxbNKQSb"
      }
    },
    {
      "cell_type": "code",
      "source": [
        "# Introduce downsampling into coupling code\n",
        "\n",
        "def downsampling_adaptive_mesh(mesh, uni_grid, guess, n, N, d):\n",
        "\n",
        "  \"\"\"\n",
        "  mesh : initial mesh\n",
        "\n",
        "  uni_grid : uniform grid\n",
        "\n",
        "  guess : initial guess \n",
        "\n",
        "  n : number of couples\n",
        "\n",
        "  N : number of grid points\n",
        "\n",
        "  d : number of downsamples\n",
        "\n",
        "  \"\"\"\n",
        "\n",
        "\n",
        "  # approximate on a uniform mesh using this guess\n",
        "\n",
        "  U = newton_method_bvp(G, J, mesh, k, k_prime, guess, u_0, u_n, 0.01, 1e-12, 100)\n",
        "\n",
        "\n",
        "  # perform downsampling\n",
        "\n",
        "  points = N\n",
        "\n",
        "  for i in range(d):\n",
        "\n",
        "    downsampling(mesh, uni_grid, U, points )\n",
        "\n",
        "    points = len(new_x)\n",
        "\n",
        "\n",
        "  mesh = new_x\n",
        "  uni_grid = new_xi\n",
        "  U = new_u\n",
        "\n",
        "\n",
        "  # set new initial guess as U\n",
        "\n",
        "  guess = []\n",
        "  for i in range(len(U)):\n",
        "    if i != 0:\n",
        "      if i != (len(U)-1):\n",
        "        val = [  U[i][0]  ]\n",
        "        guess.append(val)\n",
        "  guess = np.array( guess )\n",
        "\n",
        "  # create table to print results\n",
        "\n",
        "  print()\n",
        "  print('Mesh #    l2 Norm of Old Mesh - New Mesh          l2 Norm of Old U - New U')\n",
        "  print('_'*80)\n",
        "\n",
        "\n",
        "  # loop to couple codes\n",
        "\n",
        "  for i in range(n): # couple code 50 times\n",
        "\n",
        "\n",
        "    print(i + 1, end = '         ')\n",
        "\n",
        "    # compute mesh density function\n",
        "\n",
        "    M_vals = M_calc(U, mesh)\n",
        "\n",
        "    # equidistribute (mesh solver with de Boor)\n",
        "\n",
        "    new_mesh = equidistribute(mesh, P, M_vals, uni_grid, 0, 1)\n",
        "\n",
        "    # print norm(old mesh - new mesh)\n",
        "\n",
        "    print(norm(abs(new_mesh-mesh)), end = '                       ')\n",
        "\n",
        "    # update the mesh\n",
        "\n",
        "    mesh = new_mesh\n",
        "\n",
        "    # set current U as guess\n",
        "  \n",
        "    guess = []\n",
        "    for i in range(len(U)):\n",
        "      if i != 0:\n",
        "        if i != (len(U)-1):\n",
        "          val = [  U[i][0]  ]\n",
        "          guess.append(val)\n",
        "    guess = np.array( guess )\n",
        "\n",
        "    # compute new U\n",
        "\n",
        "    new_U = newton_method_bvp(G, J, mesh, k, k_prime, guess, u_0, u_n, 0.01, 1e-12, 100)\n",
        "\n",
        "\n",
        "    print(norm(abs(new_U - U)))\n",
        "\n",
        "    # set new_U as U\n",
        "\n",
        "    U = new_U\n",
        "  \n",
        "  # create final grid as global variable\n",
        "\n",
        "  global final_mesh\n",
        "  final_mesh = []\n",
        "  for i in range(len(mesh)):\n",
        "    final_mesh.append(mesh[i][0])\n",
        "\n",
        "\n",
        "  return U"
      ],
      "metadata": {
        "id": "0EWBFx6LB8pf"
      },
      "execution_count": 20,
      "outputs": []
    },
    {
      "cell_type": "markdown",
      "source": [
        "## Test Problem"
      ],
      "metadata": {
        "id": "nnMN4voKKYKL"
      }
    },
    {
      "cell_type": "code",
      "source": [
        "# set grids\n",
        "\n",
        "grid = np.linspace(0, 1, 100)\n",
        "\n",
        "mesh = np.array([grid]).T # initial mesh\n",
        "uni_grid = np.array([grid]).T # uniform xi\n",
        "\n",
        "# set initial guess u(x) = x\n",
        "\n",
        "guess = []\n",
        "for i in range(len(mesh)):\n",
        "  if i != 0:\n",
        "    if i != (len(mesh)-1):\n",
        "      val = [  mesh[i][0]  ]\n",
        "      guess.append(val)\n",
        "guess = np.array( guess )\n",
        "\n",
        "# call function\n",
        "\n",
        "final_U = downsampling_adaptive_mesh(mesh, uni_grid, guess, 25, 100, 2)\n",
        "\n",
        "print()\n",
        "print()\n",
        "\n",
        "# plot the result\n",
        "\n",
        "plt.plot(final_mesh, final_U, 'r')\n",
        "plt.xlabel('grid points')\n",
        "plt.ylabel('Solution Function Approximation')\n",
        "plt.title(\" Solution 3 \")\n",
        "plt.show()"
      ],
      "metadata": {
        "colab": {
          "base_uri": "https://localhost:8080/",
          "height": 989
        },
        "id": "LPpz7KCQEqWf",
        "outputId": "4b37104f-b2b5-46bf-f2e5-db612bec21b0"
      },
      "execution_count": 21,
      "outputs": [
        {
          "output_type": "stream",
          "name": "stdout",
          "text": [
            "length of new vectors\n",
            "\n",
            "50\n",
            "50\n",
            "50\n",
            "length of new vectors\n",
            "\n",
            "25\n",
            "25\n",
            "25\n",
            "\n",
            "Mesh #    l2 Norm of Old Mesh - New Mesh          l2 Norm of Old U - New U\n",
            "________________________________________________________________________________\n",
            "1         1.2082648824306539                       3.676028017302259\n",
            "2         0.1360627307822177                       0.9687742698297083\n",
            "3         0.05118770777971638                       0.3638059685442912\n",
            "4         0.029002447982530943                       4.30518374478173\n",
            "5         1.1960459444339315                       1.1963045835418584\n",
            "6         0.5453443776238651                       0.5452637729223333\n",
            "7         0.268705231884834                       0.2685772985952168\n",
            "8         0.17424264869239436                       0.17406548547474263\n",
            "9         0.12638287173849555                       0.1261483347293426\n",
            "10         0.09532501789866518                       0.09501645206286168\n",
            "11         0.07656907742505567                       0.07617818677005386\n",
            "12         0.06297732016097934                       0.062486865555599645\n",
            "13         0.0510443078182159                       0.050435098210110094\n",
            "14         0.043467101334283144                       0.042727141850126334\n",
            "15         0.03717644348010915                       0.03628408903113635\n",
            "16         0.03219951682818265                       0.03112657407700015\n",
            "17         0.028096082950652863                       0.026817228716629202\n",
            "18         0.024660896243620348                       0.02315244665832713\n",
            "19         0.02176223051721621                       0.020005369503100175\n",
            "20         0.01929366392418903                       0.017278356726657392\n",
            "21         0.016673348233638904                       0.014312889255987895\n",
            "22         0.014151249225116158                       0.011506551500490925\n",
            "23         0.01229125911583267                       0.009462974566514232\n",
            "24         0.010879530839132831                       0.007954289721654633\n",
            "25         0.00958145013347767                       0.006639858354406256\n",
            "\n",
            "\n"
          ]
        },
        {
          "output_type": "display_data",
          "data": {
            "text/plain": [
              "<Figure size 432x288 with 1 Axes>"
            ],
            "image/png": "[encoded data removed]"
          },
          "metadata": {
            "needs_background": "light"
          }
        }
      ]
    },
    {
      "cell_type": "code",
      "source": [
        ""
      ],
      "metadata": {
        "id": "wfLjUfSHFFc0"
      },
      "execution_count": 21,
      "outputs": []
    }
  ]
}